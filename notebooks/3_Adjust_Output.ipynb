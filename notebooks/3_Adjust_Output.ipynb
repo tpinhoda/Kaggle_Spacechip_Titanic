{
 "cells": [
  {
   "cell_type": "markdown",
   "metadata": {},
   "source": [
    "### Imports and setuping the variables"
   ]
  },
  {
   "cell_type": "code",
   "execution_count": 1,
   "metadata": {},
   "outputs": [],
   "source": [
    "import os\n",
    "import dotenv\n",
    "from pathlib import Path\n",
    "import pandas as pd\n",
    "import xgboost as xgb"
   ]
  },
  {
   "cell_type": "code",
   "execution_count": 2,
   "metadata": {},
   "outputs": [],
   "source": [
    "project_dir = str(Path().resolve().parents[0])\n",
    "dotenv_path = os.path.join(project_dir, '.env')\n",
    "env_var = dotenv.load_dotenv(dotenv_path)\n",
    "processed_data_path = os.environ.get(\"PROCESSED_DATA_PATH\")"
   ]
  },
  {
   "cell_type": "code",
   "execution_count": 3,
   "metadata": {},
   "outputs": [],
   "source": [
    "train = pd.read_csv(os.path.join(project_dir, processed_data_path, \"train.csv\"), index_col=\"PassengerId\")\n",
    "x_data = train.drop(columns=[\"Transported\"])\n",
    "y_data = train[\"Transported\"].astype(\"bool\")\n",
    "data_dmatrix = xgb.DMatrix(data=x_data,label=y_data)\n",
    "\n",
    "test = pd.read_csv(os.path.join(project_dir, processed_data_path, \"test.csv\"), index_col=\"PassengerId\")\n",
    "test.drop(columns=[\"Transported\"], inplace=True)\n",
    "\n"
   ]
  },
  {
   "cell_type": "markdown",
   "metadata": {},
   "source": [
    "### Train the model with the best parameters found in the GridSearchCV at notebook \"2_Modeling_XGBoost\""
   ]
  },
  {
   "cell_type": "code",
   "execution_count": 4,
   "metadata": {},
   "outputs": [
    {
     "data": {
      "text/plain": [
       "XGBClassifier(alpha=15, base_score=0.5, booster='gbtree', callbacks=None,\n",
       "              colsample_bylevel=1, colsample_bynode=1, colsample_bytree=0.55,\n",
       "              early_stopping_rounds=None, enable_categorical=False,\n",
       "              eval_metric=None, gamma=0, gpu_id=0, grow_policy='depthwise',\n",
       "              importance_type=None, interaction_constraints='',\n",
       "              learning_rate=0.1, max_bin=256, max_cat_to_onehot=4,\n",
       "              max_delta_step=0, max_depth=15, max_leaves=0, min_child_weight=1,\n",
       "              missing=nan, monotone_constraints='()', n_estimators=200,\n",
       "              n_jobs=0, num_parallel_tree=1, predictor='auto', random_state=0,\n",
       "              reg_alpha=15, ...)"
      ]
     },
     "execution_count": 4,
     "metadata": {},
     "output_type": "execute_result"
    }
   ],
   "source": [
    "xg_reg = xgb.XGBClassifier(objective ='binary:logistic',\n",
    "                           colsample_bytree = 0.55,\n",
    "                           learning_rate = 0.1,\n",
    "                           max_depth = 15,\n",
    "                           alpha = 15,\n",
    "                           reg_lambda=0.5,\n",
    "                           n_estimators = 200,\n",
    "                           tree_method='gpu_hist',\n",
    "                           gpu_id=0)\n",
    "\n",
    "xg_reg.fit(x_data,y_data)\n"
   ]
  },
  {
   "cell_type": "markdown",
   "metadata": {},
   "source": [
    "### Convert the results for the required submission format"
   ]
  },
  {
   "cell_type": "code",
   "execution_count": 6,
   "metadata": {},
   "outputs": [],
   "source": [
    "#Convert the binary output for boolean\n",
    "results = list(map(bool,xg_reg.predict(test)))\n",
    "#Add the converted predicted to the test/submission dataframe\n",
    "test['Transported'] = results\n"
   ]
  },
  {
   "cell_type": "markdown",
   "metadata": {},
   "source": [
    "### Save the test/submission dataframe for submission"
   ]
  },
  {
   "cell_type": "code",
   "execution_count": 7,
   "metadata": {},
   "outputs": [],
   "source": [
    "test['Transported'].to_csv(os.path.join(project_dir, processed_data_path, 'submission_#3.csv'))"
   ]
  }
 ],
 "metadata": {
  "interpreter": {
   "hash": "9257dd191ad9f063dbb6f097a25b9e58855f0e11f4ad184d2bdaae0b3e54e185"
  },
  "kernelspec": {
   "display_name": "Python 3.9.12 ('Spaceship_Titanic')",
   "language": "python",
   "name": "python3"
  },
  "language_info": {
   "codemirror_mode": {
    "name": "ipython",
    "version": 3
   },
   "file_extension": ".py",
   "mimetype": "text/x-python",
   "name": "python",
   "nbconvert_exporter": "python",
   "pygments_lexer": "ipython3",
   "version": "3.9.12"
  },
  "orig_nbformat": 4
 },
 "nbformat": 4,
 "nbformat_minor": 2
}
