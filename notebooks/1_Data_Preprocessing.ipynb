{
 "cells": [
  {
   "cell_type": "markdown",
   "metadata": {},
   "source": [
    "# Spaceship Titanic raw data preprocessing"
   ]
  },
  {
   "cell_type": "markdown",
   "metadata": {},
   "source": [
    "## File and Data Field Descriptions\n",
    "\n",
    "train.csv - Personal records for about two-thirds (~8700) of the passengers, to be used as training data.\\\n",
    "    * `PassengerId` - A unique Id for each passenger. Each Id takes the form gggg_pp where gggg indicates a group the passenger is travelling with and pp is their number within the group. People in a group are often family members, but not always.\\\n",
    "    * `HomePlanet` - The planet the passenger departed from, typically their planet of permanent residence.\\\n",
    "    * `CryoSleep` - Indicates whether the passenger elected to be put into suspended animation for the duration of the voyage. Passengers in cryosleep are confined to their cabins.\\\n",
    "    * `Cabin` - The cabin number where the passenger is staying. Takes the form deck/num/side, where side can be either P for Port or S for Starboard.\\\n",
    "    * `Destination` - The planet the passenger will be debarking to.\\\n",
    "    * `Age` - The age of the passenger.\\\n",
    "    * `VIP` - Whether the passenger has paid for special VIP service during the voyage.\\\n",
    "    * `RoomService`, `FoodCourt`, `ShoppingMall`, `Spa`, `VRDeck` - Amount the passenger has billed at each of the Spaceship Titanic's many luxury amenities.\\\n",
    "    * `Name` - The first and last names of the passenger.\\\n",
    "    * `Transported` - Whether the passenger was transported to another dimension. This is the target, the column you are trying to predict.\\\n",
    "\\\n",
    "test.csv - Personal records for the remaining one-third (~4300) of the passengers, to be used as test data. Your task is to predict the value of Transported for the passengers in this set.\\\n",
    "\\\n",
    "sample_submission.csv - A submission file in the correct format.\\\n",
    "    *PassengerId* - Id for each passenger in the test set.\\\n",
    "    *Transported* - The target. For each passenger, predict either True or False.\\\n"
   ]
  },
  {
   "cell_type": "code",
   "execution_count": 30,
   "metadata": {},
   "outputs": [],
   "source": [
    "import os\n",
    "import dotenv\n",
    "from pathlib import Path\n",
    "import pandas as pd\n",
    "import matplotlib.pyplot as plt\n",
    "%matplotlib inline"
   ]
  },
  {
   "cell_type": "markdown",
   "metadata": {},
   "source": [
    "## 1 - Load environmental variables"
   ]
  },
  {
   "cell_type": "code",
   "execution_count": 31,
   "metadata": {},
   "outputs": [],
   "source": [
    "project_dir = str(Path().resolve().parents[0])\n",
    "dotenv_path = os.path.join(project_dir, '.env')\n",
    "env_var = dotenv.load_dotenv(dotenv_path)\n",
    "raw_data_path = os.environ.get(\"RAW_DATA_PATH\")"
   ]
  },
  {
   "cell_type": "markdown",
   "metadata": {},
   "source": [
    "## 2 - Read raw data\n",
    "The infer_objects function automatically identifies the dtypes for each column"
   ]
  },
  {
   "cell_type": "code",
   "execution_count": 32,
   "metadata": {},
   "outputs": [
    {
     "data": {
      "text/html": [
       "<div>\n",
       "<style scoped>\n",
       "    .dataframe tbody tr th:only-of-type {\n",
       "        vertical-align: middle;\n",
       "    }\n",
       "\n",
       "    .dataframe tbody tr th {\n",
       "        vertical-align: top;\n",
       "    }\n",
       "\n",
       "    .dataframe thead th {\n",
       "        text-align: right;\n",
       "    }\n",
       "</style>\n",
       "<table border=\"1\" class=\"dataframe\">\n",
       "  <thead>\n",
       "    <tr style=\"text-align: right;\">\n",
       "      <th></th>\n",
       "      <th>PassengerId</th>\n",
       "      <th>HomePlanet</th>\n",
       "      <th>CryoSleep</th>\n",
       "      <th>Cabin</th>\n",
       "      <th>Destination</th>\n",
       "      <th>Age</th>\n",
       "      <th>VIP</th>\n",
       "      <th>RoomService</th>\n",
       "      <th>FoodCourt</th>\n",
       "      <th>ShoppingMall</th>\n",
       "      <th>Spa</th>\n",
       "      <th>VRDeck</th>\n",
       "      <th>Name</th>\n",
       "      <th>Transported</th>\n",
       "    </tr>\n",
       "  </thead>\n",
       "  <tbody>\n",
       "    <tr>\n",
       "      <th>0</th>\n",
       "      <td>0001_01</td>\n",
       "      <td>Europa</td>\n",
       "      <td>False</td>\n",
       "      <td>B/0/P</td>\n",
       "      <td>TRAPPIST-1e</td>\n",
       "      <td>39.0</td>\n",
       "      <td>False</td>\n",
       "      <td>0.0</td>\n",
       "      <td>0.0</td>\n",
       "      <td>0.0</td>\n",
       "      <td>0.0</td>\n",
       "      <td>0.0</td>\n",
       "      <td>Maham Ofracculy</td>\n",
       "      <td>False</td>\n",
       "    </tr>\n",
       "    <tr>\n",
       "      <th>1</th>\n",
       "      <td>0002_01</td>\n",
       "      <td>Earth</td>\n",
       "      <td>False</td>\n",
       "      <td>F/0/S</td>\n",
       "      <td>TRAPPIST-1e</td>\n",
       "      <td>24.0</td>\n",
       "      <td>False</td>\n",
       "      <td>109.0</td>\n",
       "      <td>9.0</td>\n",
       "      <td>25.0</td>\n",
       "      <td>549.0</td>\n",
       "      <td>44.0</td>\n",
       "      <td>Juanna Vines</td>\n",
       "      <td>True</td>\n",
       "    </tr>\n",
       "    <tr>\n",
       "      <th>2</th>\n",
       "      <td>0003_01</td>\n",
       "      <td>Europa</td>\n",
       "      <td>False</td>\n",
       "      <td>A/0/S</td>\n",
       "      <td>TRAPPIST-1e</td>\n",
       "      <td>58.0</td>\n",
       "      <td>True</td>\n",
       "      <td>43.0</td>\n",
       "      <td>3576.0</td>\n",
       "      <td>0.0</td>\n",
       "      <td>6715.0</td>\n",
       "      <td>49.0</td>\n",
       "      <td>Altark Susent</td>\n",
       "      <td>False</td>\n",
       "    </tr>\n",
       "    <tr>\n",
       "      <th>3</th>\n",
       "      <td>0003_02</td>\n",
       "      <td>Europa</td>\n",
       "      <td>False</td>\n",
       "      <td>A/0/S</td>\n",
       "      <td>TRAPPIST-1e</td>\n",
       "      <td>33.0</td>\n",
       "      <td>False</td>\n",
       "      <td>0.0</td>\n",
       "      <td>1283.0</td>\n",
       "      <td>371.0</td>\n",
       "      <td>3329.0</td>\n",
       "      <td>193.0</td>\n",
       "      <td>Solam Susent</td>\n",
       "      <td>False</td>\n",
       "    </tr>\n",
       "    <tr>\n",
       "      <th>4</th>\n",
       "      <td>0004_01</td>\n",
       "      <td>Earth</td>\n",
       "      <td>False</td>\n",
       "      <td>F/1/S</td>\n",
       "      <td>TRAPPIST-1e</td>\n",
       "      <td>16.0</td>\n",
       "      <td>False</td>\n",
       "      <td>303.0</td>\n",
       "      <td>70.0</td>\n",
       "      <td>151.0</td>\n",
       "      <td>565.0</td>\n",
       "      <td>2.0</td>\n",
       "      <td>Willy Santantines</td>\n",
       "      <td>True</td>\n",
       "    </tr>\n",
       "  </tbody>\n",
       "</table>\n",
       "</div>"
      ],
      "text/plain": [
       "  PassengerId HomePlanet CryoSleep  Cabin  Destination   Age    VIP  \\\n",
       "0     0001_01     Europa     False  B/0/P  TRAPPIST-1e  39.0  False   \n",
       "1     0002_01      Earth     False  F/0/S  TRAPPIST-1e  24.0  False   \n",
       "2     0003_01     Europa     False  A/0/S  TRAPPIST-1e  58.0   True   \n",
       "3     0003_02     Europa     False  A/0/S  TRAPPIST-1e  33.0  False   \n",
       "4     0004_01      Earth     False  F/1/S  TRAPPIST-1e  16.0  False   \n",
       "\n",
       "   RoomService  FoodCourt  ShoppingMall     Spa  VRDeck               Name  \\\n",
       "0          0.0        0.0           0.0     0.0     0.0    Maham Ofracculy   \n",
       "1        109.0        9.0          25.0   549.0    44.0       Juanna Vines   \n",
       "2         43.0     3576.0           0.0  6715.0    49.0      Altark Susent   \n",
       "3          0.0     1283.0         371.0  3329.0   193.0       Solam Susent   \n",
       "4        303.0       70.0         151.0   565.0     2.0  Willy Santantines   \n",
       "\n",
       "   Transported  \n",
       "0        False  \n",
       "1         True  \n",
       "2        False  \n",
       "3        False  \n",
       "4         True  "
      ]
     },
     "execution_count": 32,
     "metadata": {},
     "output_type": "execute_result"
    }
   ],
   "source": [
    "raw_data = pd.read_csv(os.path.join(project_dir, raw_data_path, \"train.csv\")).infer_objects()\n",
    "raw_data.head()"
   ]
  },
  {
   "cell_type": "markdown",
   "metadata": {},
   "source": [
    "### 2.1 Checking columns dtypes"
   ]
  },
  {
   "cell_type": "code",
   "execution_count": 33,
   "metadata": {},
   "outputs": [
    {
     "name": "stdout",
     "output_type": "stream",
     "text": [
      "Number of columns: 14\n"
     ]
    },
    {
     "data": {
      "text/plain": [
       "PassengerId      object\n",
       "HomePlanet       object\n",
       "CryoSleep        object\n",
       "Cabin            object\n",
       "Destination      object\n",
       "Age             float64\n",
       "VIP              object\n",
       "RoomService     float64\n",
       "FoodCourt       float64\n",
       "ShoppingMall    float64\n",
       "Spa             float64\n",
       "VRDeck          float64\n",
       "Name             object\n",
       "Transported        bool\n",
       "dtype: object"
      ]
     },
     "execution_count": 33,
     "metadata": {},
     "output_type": "execute_result"
    }
   ],
   "source": [
    "print(f\"Number of columns: {raw_data.shape[1]}\")\n",
    "raw_data.dtypes"
   ]
  },
  {
   "cell_type": "code",
   "execution_count": 34,
   "metadata": {},
   "outputs": [
    {
     "name": "stdout",
     "output_type": "stream",
     "text": [
      "Numerical columns: ['Age', 'RoomService', 'FoodCourt', 'ShoppingMall', 'Spa', 'VRDeck']\n",
      "Categorival columns: ['PassengerId', 'HomePlanet', 'CryoSleep', 'Cabin', 'Destination', 'VIP', 'Name']\n",
      "Target column: Transported\n"
     ]
    }
   ],
   "source": [
    "numerical_cols = raw_data.select_dtypes(include=\"float64\").columns.to_list()\n",
    "categorical_cols = raw_data.select_dtypes(include=\"object\").columns.to_list()\n",
    "target_col = raw_data.select_dtypes(include=\"bool\").columns.to_list()[0]\n",
    "print(f\"Numerical columns: {numerical_cols}\")\n",
    "print(f\"Categorival columns: {categorical_cols}\")\n",
    "print(f\"Target column: {target_col}\")"
   ]
  },
  {
   "cell_type": "markdown",
   "metadata": {},
   "source": [
    "## 3 - Removing ID type columns"
   ]
  },
  {
   "cell_type": "code",
   "execution_count": 47,
   "metadata": {},
   "outputs": [
    {
     "name": "stdout",
     "output_type": "stream",
     "text": [
      "PassengerId    8693\n",
      "HomePlanet        3\n",
      "CryoSleep         2\n",
      "Cabin          6560\n",
      "Destination       3\n",
      "VIP               2\n",
      "Name           8473\n",
      "dtype: int64\n",
      "Removed ID type columns: ['PassengerId']\n"
     ]
    }
   ],
   "source": [
    "print(raw_data[categorical_cols].nunique())\n",
    "id_types_cols = raw_data.columns[raw_data.nunique() == raw_data.shape[0]].to_list()\n",
    "pre_processed_data = raw_data.set_index(id_types_cols)\n",
    "print(f\"Removed ID type columns: {id_types_cols}\")\n",
    "# Seems that the Name column presents equal names. \n",
    "# Are there different entries for the same person?\n",
    "# Are these entries equal o different?\n",
    "# We must check for equal rows and also equal rows with different classes."
   ]
  },
  {
   "cell_type": "markdown",
   "metadata": {},
   "source": [
    "## 4 - Missing data imputation"
   ]
  },
  {
   "cell_type": "code",
   "execution_count": 48,
   "metadata": {},
   "outputs": [
    {
     "name": "stdout",
     "output_type": "stream",
     "text": [
      "Number of NaN values: 2324/113009\n",
      "Number of columns with NaN: 12/13\n",
      "Number of rows with NaN: 2087/8693\n"
     ]
    }
   ],
   "source": [
    "\n",
    "print(f\"Number of NaN values: {pre_processed_data.isna().sum().sum()}/{pre_processed_data.size}\")\n",
    "print(f\"Number of columns with NaN: {pre_processed_data.isna().any().sum()}/{pre_processed_data.shape[1]}\")\n",
    "print(f\"Number of rows with NaN: {pre_processed_data.isna().any(axis=1).sum()}/{pre_processed_data.shape[0]}\")\n",
    "# ToDo: \n",
    "# We need to inputate missing data for all columns \n",
    "# We need to check if this is possible\n"
   ]
  },
  {
   "cell_type": "markdown",
   "metadata": {},
   "source": [
    "## 5 - Standarize the data by fixed terms"
   ]
  },
  {
   "cell_type": "code",
   "execution_count": 49,
   "metadata": {},
   "outputs": [
    {
     "name": "stdout",
     "output_type": "stream",
     "text": [
      "Mean used for standarizantion is:\n",
      "Age              28.827930\n",
      "RoomService     224.687617\n",
      "FoodCourt       458.077203\n",
      "ShoppingMall    173.729169\n",
      "Spa             311.138778\n",
      "VRDeck          304.854791\n",
      "dtype: float64\n",
      "Standard Deviation used for standarizantion is:\n",
      "Age               14.489021\n",
      "RoomService      666.717663\n",
      "FoodCourt       1611.489240\n",
      "ShoppingMall     604.696458\n",
      "Spa             1136.705535\n",
      "VRDeck          1145.717189\n",
      "dtype: float64\n"
     ]
    },
    {
     "data": {
      "text/html": [
       "<div>\n",
       "<style scoped>\n",
       "    .dataframe tbody tr th:only-of-type {\n",
       "        vertical-align: middle;\n",
       "    }\n",
       "\n",
       "    .dataframe tbody tr th {\n",
       "        vertical-align: top;\n",
       "    }\n",
       "\n",
       "    .dataframe thead th {\n",
       "        text-align: right;\n",
       "    }\n",
       "</style>\n",
       "<table border=\"1\" class=\"dataframe\">\n",
       "  <thead>\n",
       "    <tr style=\"text-align: right;\">\n",
       "      <th></th>\n",
       "      <th>Age</th>\n",
       "      <th>RoomService</th>\n",
       "      <th>FoodCourt</th>\n",
       "      <th>ShoppingMall</th>\n",
       "      <th>Spa</th>\n",
       "      <th>VRDeck</th>\n",
       "    </tr>\n",
       "    <tr>\n",
       "      <th>PassengerId</th>\n",
       "      <th></th>\n",
       "      <th></th>\n",
       "      <th></th>\n",
       "      <th></th>\n",
       "      <th></th>\n",
       "      <th></th>\n",
       "    </tr>\n",
       "  </thead>\n",
       "  <tbody>\n",
       "    <tr>\n",
       "      <th>0001_01</th>\n",
       "      <td>0.702054</td>\n",
       "      <td>-0.337006</td>\n",
       "      <td>-0.284257</td>\n",
       "      <td>-0.287300</td>\n",
       "      <td>-0.273720</td>\n",
       "      <td>-0.266082</td>\n",
       "    </tr>\n",
       "    <tr>\n",
       "      <th>0002_01</th>\n",
       "      <td>-0.333213</td>\n",
       "      <td>-0.173518</td>\n",
       "      <td>-0.278672</td>\n",
       "      <td>-0.245957</td>\n",
       "      <td>0.209255</td>\n",
       "      <td>-0.227678</td>\n",
       "    </tr>\n",
       "    <tr>\n",
       "      <th>0003_01</th>\n",
       "      <td>2.013391</td>\n",
       "      <td>-0.272511</td>\n",
       "      <td>1.934808</td>\n",
       "      <td>-0.287300</td>\n",
       "      <td>5.633703</td>\n",
       "      <td>-0.223314</td>\n",
       "    </tr>\n",
       "    <tr>\n",
       "      <th>0003_02</th>\n",
       "      <td>0.287947</td>\n",
       "      <td>-0.337006</td>\n",
       "      <td>0.511901</td>\n",
       "      <td>0.326231</td>\n",
       "      <td>2.654919</td>\n",
       "      <td>-0.097629</td>\n",
       "    </tr>\n",
       "    <tr>\n",
       "      <th>0004_01</th>\n",
       "      <td>-0.885355</td>\n",
       "      <td>0.117460</td>\n",
       "      <td>-0.240819</td>\n",
       "      <td>-0.037588</td>\n",
       "      <td>0.223331</td>\n",
       "      <td>-0.264336</td>\n",
       "    </tr>\n",
       "    <tr>\n",
       "      <th>...</th>\n",
       "      <td>...</td>\n",
       "      <td>...</td>\n",
       "      <td>...</td>\n",
       "      <td>...</td>\n",
       "      <td>...</td>\n",
       "      <td>...</td>\n",
       "    </tr>\n",
       "    <tr>\n",
       "      <th>9276_01</th>\n",
       "      <td>0.840089</td>\n",
       "      <td>-0.337006</td>\n",
       "      <td>3.947233</td>\n",
       "      <td>-0.287300</td>\n",
       "      <td>1.171685</td>\n",
       "      <td>-0.201494</td>\n",
       "    </tr>\n",
       "    <tr>\n",
       "      <th>9278_01</th>\n",
       "      <td>-0.747320</td>\n",
       "      <td>-0.337006</td>\n",
       "      <td>-0.284257</td>\n",
       "      <td>-0.287300</td>\n",
       "      <td>-0.273720</td>\n",
       "      <td>-0.266082</td>\n",
       "    </tr>\n",
       "    <tr>\n",
       "      <th>9279_01</th>\n",
       "      <td>-0.195177</td>\n",
       "      <td>-0.337006</td>\n",
       "      <td>-0.284257</td>\n",
       "      <td>2.808468</td>\n",
       "      <td>-0.272840</td>\n",
       "      <td>-0.266082</td>\n",
       "    </tr>\n",
       "    <tr>\n",
       "      <th>9280_01</th>\n",
       "      <td>0.218929</td>\n",
       "      <td>-0.337006</td>\n",
       "      <td>0.366694</td>\n",
       "      <td>-0.287300</td>\n",
       "      <td>0.036827</td>\n",
       "      <td>2.557477</td>\n",
       "    </tr>\n",
       "    <tr>\n",
       "      <th>9280_02</th>\n",
       "      <td>1.047142</td>\n",
       "      <td>-0.148020</td>\n",
       "      <td>2.624853</td>\n",
       "      <td>-0.287300</td>\n",
       "      <td>-0.273720</td>\n",
       "      <td>-0.255608</td>\n",
       "    </tr>\n",
       "  </tbody>\n",
       "</table>\n",
       "<p>8693 rows × 6 columns</p>\n",
       "</div>"
      ],
      "text/plain": [
       "                  Age  RoomService  FoodCourt  ShoppingMall       Spa  \\\n",
       "PassengerId                                                             \n",
       "0001_01      0.702054    -0.337006  -0.284257     -0.287300 -0.273720   \n",
       "0002_01     -0.333213    -0.173518  -0.278672     -0.245957  0.209255   \n",
       "0003_01      2.013391    -0.272511   1.934808     -0.287300  5.633703   \n",
       "0003_02      0.287947    -0.337006   0.511901      0.326231  2.654919   \n",
       "0004_01     -0.885355     0.117460  -0.240819     -0.037588  0.223331   \n",
       "...               ...          ...        ...           ...       ...   \n",
       "9276_01      0.840089    -0.337006   3.947233     -0.287300  1.171685   \n",
       "9278_01     -0.747320    -0.337006  -0.284257     -0.287300 -0.273720   \n",
       "9279_01     -0.195177    -0.337006  -0.284257      2.808468 -0.272840   \n",
       "9280_01      0.218929    -0.337006   0.366694     -0.287300  0.036827   \n",
       "9280_02      1.047142    -0.148020   2.624853     -0.287300 -0.273720   \n",
       "\n",
       "               VRDeck  \n",
       "PassengerId            \n",
       "0001_01     -0.266082  \n",
       "0002_01     -0.227678  \n",
       "0003_01     -0.223314  \n",
       "0003_02     -0.097629  \n",
       "0004_01     -0.264336  \n",
       "...               ...  \n",
       "9276_01     -0.201494  \n",
       "9278_01     -0.266082  \n",
       "9279_01     -0.266082  \n",
       "9280_01      2.557477  \n",
       "9280_02     -0.255608  \n",
       "\n",
       "[8693 rows x 6 columns]"
      ]
     },
     "execution_count": 49,
     "metadata": {},
     "output_type": "execute_result"
    }
   ],
   "source": [
    "mean_numerical_cols = pre_processed_data[numerical_cols].mean()\n",
    "std_numerical_cols = pre_processed_data[numerical_cols].std()\n",
    "pre_processed_data_standard = (pre_processed_data[numerical_cols] - mean_numerical_cols)/ std_numerical_cols\n",
    "\n",
    "print(f'Mean used for standarizantion is:')\n",
    "print(mean_numerical_cols)\n",
    "print(f'Standard Deviation used for standarizantion is:')\n",
    "print(std_numerical_cols)\n",
    "\n",
    "raw_data_standard\n",
    "\n"
   ]
  },
  {
   "cell_type": "markdown",
   "metadata": {},
   "source": [
    "## 6 -  Convert categorical columns to numerical"
   ]
  },
  {
   "cell_type": "code",
   "execution_count": 52,
   "metadata": {},
   "outputs": [],
   "source": [
    "pre_processed_data_categorical_convert = pd.get_dummies(pre_processed_data)"
   ]
  },
  {
   "cell_type": "code",
   "execution_count": 54,
   "metadata": {},
   "outputs": [
    {
     "name": "stdout",
     "output_type": "stream",
     "text": [
      "Index(['Age', 'RoomService', 'FoodCourt', 'ShoppingMall', 'Spa', 'VRDeck',\n",
      "       'Transported', 'HomePlanet_Earth', 'HomePlanet_Europa',\n",
      "       'HomePlanet_Mars',\n",
      "       ...\n",
      "       'Name_Zinopus Spandisket', 'Name_Zinor Axlentindy',\n",
      "       'Name_Zinor Proorbeng', 'Name_Zinoth Lansuffle', 'Name_Zosmark Trattle',\n",
      "       'Name_Zosmark Unaasor', 'Name_Zosmas Ineedeve',\n",
      "       'Name_Zosmas Mormonized', 'Name_Zubeneb Flesping',\n",
      "       'Name_Zubeneb Pasharne'],\n",
      "      dtype='object', length=15050)\n"
     ]
    }
   ],
   "source": [
    "print(pre_processed_data_categorical_convert.columns)"
   ]
  },
  {
   "cell_type": "code",
   "execution_count": null,
   "metadata": {},
   "outputs": [],
   "source": []
  }
 ],
 "metadata": {
  "interpreter": {
   "hash": "9ff127ec25328bc12f2611454578265a1e6b37f60f05c4b9578e02185aba6d7a"
  },
  "kernelspec": {
   "display_name": "Python 3.8.13 ('Spaceship_Titanic')",
   "language": "python",
   "name": "python3"
  },
  "language_info": {
   "codemirror_mode": {
    "name": "ipython",
    "version": 3
   },
   "file_extension": ".py",
   "mimetype": "text/x-python",
   "name": "python",
   "nbconvert_exporter": "python",
   "pygments_lexer": "ipython3",
   "version": "3.9.12"
  },
  "orig_nbformat": 4
 },
 "nbformat": 4,
 "nbformat_minor": 2
}
