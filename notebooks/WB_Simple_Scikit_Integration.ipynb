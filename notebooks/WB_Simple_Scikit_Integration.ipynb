{
  "cells": [
    {
      "cell_type": "markdown",
      "metadata": {
        "id": "nQcFFLLyQhpD"
      },
      "source": [
        "<img src=\"https://wandb.me/logo-im-png\" width=\"400\" alt=\"Weights & Biases\" />\n",
        "\n",
        "<!--- @wandbcode{simple-sklearn} -->\n",
        "\n",
        "# 🏋️‍♀️ W&B + 🧪 Scikit-learn\n",
        "Use Weights & Biases for machine learning experiment tracking, dataset versioning, and project collaboration.\n",
        "\n",
        "\n",
        "<img src=\"https://wandb.me/mini-diagram\" width=\"650\" alt=\"Weights & Biases\" />\n",
        "\n",
        "\n",
        "## What this notebook covers:\n",
        "* Easy integration of Weights and Biases with Scikit. \n",
        "* W&B Scikit plots for model interpretation and diagnostics for regression, classification, and clustering.\n",
        "\n",
        "**Note**: Sections starting with _Step_ are all you need to integrate W&B to existing code.\n",
        "\n",
        "\n",
        "## The interactive W&B Dashboard will look like this:\n",
        "\n",
        "![](https://i.imgur.com/F1ZgR4A.png)"
      ]
    },
    {
      "cell_type": "code",
      "execution_count": 4,
      "metadata": {
        "id": "r6292yy5QhpH"
      },
      "outputs": [],
      "source": [
        "import warnings\n",
        "\n",
        "import matplotlib.pyplot as plt\n",
        "import numpy as np\n",
        "import pandas as pd\n",
        "\n",
        "from sklearn.svm import SVC\n",
        "from sklearn.ensemble import RandomForestClassifier\n",
        "from sklearn.linear_model import LinearRegression\n",
        "from sklearn.linear_model import Ridge\n",
        "from sklearn.tree import DecisionTreeClassifier\n",
        "from sklearn.cluster import KMeans\n",
        "from sklearn import datasets, cluster\n",
        "\n",
        "from sklearn.model_selection import train_test_split\n",
        "from sklearn.utils.class_weight import compute_class_weight\n",
        "\n",
        "from sklearn.exceptions import ConvergenceWarning\n",
        "warnings.filterwarnings(\"ignore\", category=ConvergenceWarning)"
      ]
    },
    {
      "cell_type": "markdown",
      "metadata": {
        "id": "Gfac84swQhpI"
      },
      "source": [
        "## Step 0: Install W&B"
      ]
    },
    {
      "cell_type": "code",
      "execution_count": 5,
      "metadata": {
        "id": "bMmf5pYLQhpJ"
      },
      "outputs": [],
      "source": [
        "%%capture\n",
        "!pip install wandb"
      ]
    },
    {
      "cell_type": "markdown",
      "metadata": {
        "id": "2FgzmvKYQhpK"
      },
      "source": [
        "## Step 1: Import W&B and Login"
      ]
    },
    {
      "cell_type": "code",
      "execution_count": 6,
      "metadata": {
        "id": "KxvxKqosQhpL"
      },
      "outputs": [
        {
          "name": "stderr",
          "output_type": "stream",
          "text": [
            "Failed to detect the name of this notebook, you can set it manually with the WANDB_NOTEBOOK_NAME environment variable to enable code saving.\n",
            "\u001b[34m\u001b[1mwandb\u001b[0m: You can find your API key in your browser here: https://wandb.ai/authorize\n",
            "\u001b[34m\u001b[1mwandb\u001b[0m: Appending key for api.wandb.ai to your netrc file: C:\\Users\\tiago/.netrc\n"
          ]
        },
        {
          "data": {
            "text/plain": [
              "True"
            ]
          },
          "execution_count": 6,
          "metadata": {},
          "output_type": "execute_result"
        }
      ],
      "source": [
        "import wandb\n",
        "\n",
        "wandb.login()"
      ]
    },
    {
      "cell_type": "markdown",
      "metadata": {
        "id": "rP2o1VzpQhpL"
      },
      "source": [
        "# Regression\n",
        "\n",
        "**Let's check out a quick example**"
      ]
    },
    {
      "cell_type": "code",
      "execution_count": null,
      "metadata": {
        "id": "kWaNGI3pQhpM"
      },
      "outputs": [],
      "source": [
        "# Load data\n",
        "housing = datasets.fetch_california_housing()\n",
        "X = pd.DataFrame(housing.data, columns=housing.feature_names)\n",
        "y = housing.target\n",
        "X, y = X[::2], y[::2]  # subsample for faster demo\n",
        "wandb.errors.term._show_warnings = False\n",
        "# ignore warnings about charts being built from subset of data\n",
        "\n",
        "X_train, X_test, y_train, y_test = train_test_split(X, y, test_size=0.3)\n",
        "\n",
        "# Train model, get predictions\n",
        "reg = Ridge()\n",
        "reg.fit(X_train, y_train)\n",
        "y_pred = reg.predict(X_test)"
      ]
    },
    {
      "cell_type": "markdown",
      "metadata": {
        "id": "AV5W9WA-QhpN"
      },
      "source": [
        "## Step 2: Initialize W&B run"
      ]
    },
    {
      "cell_type": "code",
      "execution_count": null,
      "metadata": {
        "id": "5A0vQ2GJQhpN"
      },
      "outputs": [],
      "source": [
        "run = wandb.init(project='my-scikit-integration', name=\"regression\")"
      ]
    },
    {
      "cell_type": "markdown",
      "metadata": {
        "id": "bwzXG8NHQhpO"
      },
      "source": [
        "## Step 3: Visualize model performance"
      ]
    },
    {
      "cell_type": "markdown",
      "metadata": {
        "id": "8l9wKempQhpP"
      },
      "source": [
        "### Residual Plot\n",
        "\n",
        "Measures and plots the predicted target values (y-axis) vs the difference between actual and predicted target values (x-axis), as well as the distribution of the residual error.\n",
        "\n",
        "Generally, the residuals of a well-fit model should be randomly distributed because good models will account for most phenomena in a data set, except for random error.\n",
        "\n",
        "[Check out the official documentation here $\\rightarrow$](https://docs.wandb.com/library/integrations/scikit#residuals-plot)\n"
      ]
    },
    {
      "cell_type": "code",
      "execution_count": null,
      "metadata": {
        "id": "-kFXNS0lQhpP"
      },
      "outputs": [],
      "source": [
        "wandb.sklearn.plot_residuals(reg, X_train, y_train)"
      ]
    },
    {
      "cell_type": "markdown",
      "metadata": {
        "id": "StjNYtTzQhpQ"
      },
      "source": [
        "### Outlier Candidate\n",
        "\n",
        "Measures a datapoint's influence on regression model via Cook's distance. Instances with heavily skewed influences could potentially be outliers. Useful for outlier detection.\n",
        "\n",
        "[Check out the official documentation here $\\rightarrow$](https://docs.wandb.com/library/integrations/scikit#outlier-candidates-plot)"
      ]
    },
    {
      "cell_type": "code",
      "execution_count": null,
      "metadata": {
        "id": "gOGS3EEvQhpQ"
      },
      "outputs": [],
      "source": [
        "wandb.sklearn.plot_outlier_candidates(reg, X_train, y_train)"
      ]
    },
    {
      "cell_type": "markdown",
      "metadata": {
        "id": "JIAN-7b4QhpR"
      },
      "source": [
        "## All-in-one: Regression plot\n",
        "\n",
        "Using this all in one API one can:\n",
        "* Log summary of metrics\n",
        "* Log learning curve\n",
        "* Log outlier candidates\n",
        "* Log residual plot"
      ]
    },
    {
      "cell_type": "code",
      "execution_count": null,
      "metadata": {
        "id": "xbJpFP2hQhpR"
      },
      "outputs": [],
      "source": [
        "wandb.sklearn.plot_regressor(reg, X_train, X_test, y_train, y_test, model_name='Ridge')\n",
        "\n",
        "wandb.finish()"
      ]
    },
    {
      "cell_type": "markdown",
      "metadata": {
        "id": "iaH2GKHKQhpS"
      },
      "source": [
        "# Classification\n",
        "\n",
        "**Let's check out a quick example.**"
      ]
    },
    {
      "cell_type": "code",
      "execution_count": 7,
      "metadata": {
        "id": "WGW1wcCpQhpS"
      },
      "outputs": [],
      "source": [
        "# Load data\n",
        "wbcd = wisconsin_breast_cancer_data = datasets.load_breast_cancer()\n",
        "feature_names = wbcd.feature_names\n",
        "labels = wbcd.target_names\n",
        "\n",
        "X_train, X_test, y_train, y_test = train_test_split(wbcd.data, wbcd.target, test_size=0.2)\n",
        "\n",
        "\n",
        "# Train model, get predictions\n",
        "model = RandomForestClassifier()\n",
        "model.fit(X_train, y_train)\n",
        "y_pred = model.predict(X_test)\n",
        "y_probas = model.predict_proba(X_test)\n",
        "importances = model.feature_importances_\n",
        "indices = np.argsort(importances)[::-1]"
      ]
    },
    {
      "cell_type": "markdown",
      "metadata": {
        "id": "6B8wYUdnQhpT"
      },
      "source": [
        "## Step 2: Initialize W&B run"
      ]
    },
    {
      "cell_type": "code",
      "execution_count": 8,
      "metadata": {
        "id": "eFn4VaNKQhpT"
      },
      "outputs": [
        {
          "name": "stderr",
          "output_type": "stream",
          "text": [
            "\u001b[34m\u001b[1mwandb\u001b[0m: Currently logged in as: \u001b[33mkagglelt\u001b[0m (use `wandb login --relogin` to force relogin)\n"
          ]
        },
        {
          "data": {
            "text/html": [
              "Tracking run with wandb version 0.12.15"
            ],
            "text/plain": [
              "<IPython.core.display.HTML object>"
            ]
          },
          "metadata": {},
          "output_type": "display_data"
        },
        {
          "data": {
            "text/html": [
              "Run data is saved locally in <code>h:\\Github\\Kaggle_Spaceship_Titanic\\notebooks\\wandb\\run-20220429_144633-1njchdv9</code>"
            ],
            "text/plain": [
              "<IPython.core.display.HTML object>"
            ]
          },
          "metadata": {},
          "output_type": "display_data"
        },
        {
          "data": {
            "text/html": [
              "Syncing run <strong><a href=\"https://wandb.ai/kagglelt/my-scikit-integration/runs/1njchdv9\" target=\"_blank\">classification</a></strong> to <a href=\"https://wandb.ai/kagglelt/my-scikit-integration\" target=\"_blank\">Weights & Biases</a> (<a href=\"https://wandb.me/run\" target=\"_blank\">docs</a>)<br/>"
            ],
            "text/plain": [
              "<IPython.core.display.HTML object>"
            ]
          },
          "metadata": {},
          "output_type": "display_data"
        }
      ],
      "source": [
        "run = wandb.init(project='my-scikit-integration', name=\"classification\")"
      ]
    },
    {
      "cell_type": "markdown",
      "metadata": {
        "id": "yMnw2pNTQhpT"
      },
      "source": [
        "## Step 3: Visualize model performance"
      ]
    },
    {
      "cell_type": "markdown",
      "metadata": {
        "id": "LjZciJxgQhpT"
      },
      "source": [
        "### Class Proportions\n",
        "\n",
        "Plots the distribution of target classes in training and test sets. Useful for detecting imbalanced classes and ensuring that one class doesn't have a disproportionate influence on the model.\n",
        "\n",
        "[Check out the official documentation here $\\rightarrow$](https://docs.wandb.com/library/integrations/scikit#class-proportions)"
      ]
    },
    {
      "cell_type": "code",
      "execution_count": 9,
      "metadata": {
        "id": "-R-auKTIQhpU"
      },
      "outputs": [],
      "source": [
        "wandb.sklearn.plot_class_proportions(y_train, y_test, labels)"
      ]
    },
    {
      "cell_type": "markdown",
      "metadata": {
        "id": "gQ26dNfkQhpU"
      },
      "source": [
        "### Learning Curve\n",
        "\n",
        "Trains model on datasets of varying lengths and generates a plot of cross validated scores vs dataset size, for both training and test sets.\n",
        "\n",
        "[Check out the official documentation here $\\rightarrow$](https://docs.wandb.com/library/integrations/scikit#learning-curve)"
      ]
    },
    {
      "cell_type": "code",
      "execution_count": 10,
      "metadata": {
        "id": "XcR6uO7bQhpV"
      },
      "outputs": [],
      "source": [
        "wandb.sklearn.plot_learning_curve(model, X_train, y_train)"
      ]
    },
    {
      "cell_type": "markdown",
      "metadata": {
        "id": "lA_AwWqKQhpV"
      },
      "source": [
        "### ROC\n",
        "\n",
        "ROC curves plot true positive rate (y-axis) vs false positive rate (x-axis). The ideal score is a `TPR = 1` and `FPR = 0`, which is the point on the top left. Typically we calculate the area under the ROC curve (AUC-ROC), and the greater the AUC-ROC the better.\n",
        "\n",
        "[Check out the official documentation here $\\rightarrow$](https://docs.wandb.com/library/integrations/scikit#roc)"
      ]
    },
    {
      "cell_type": "code",
      "execution_count": 11,
      "metadata": {
        "id": "C_7afOW3QhpV"
      },
      "outputs": [
        {
          "name": "stderr",
          "output_type": "stream",
          "text": [
            "\u001b[34m\u001b[1mwandb\u001b[0m: \u001b[33mWARNING\u001b[0m wandb.plots.* functions are deprecated and will be removed in a future release. Please use wandb.plot.* instead.\n"
          ]
        }
      ],
      "source": [
        "wandb.sklearn.plot_roc(y_test, y_probas, labels)"
      ]
    },
    {
      "cell_type": "markdown",
      "metadata": {
        "id": "8oLKKYBTQhpV"
      },
      "source": [
        "### Precision Recall Curve\n",
        "\n",
        "Computes the tradeoff between precision and recall for different thresholds. A high area under the curve represents both high recall and high precision, where high precision relates to a low false positive rate, and high recall relates to a low false negative rate.\n",
        "\n",
        "[Check out the official documentation here $\\rightarrow$](https://docs.wandb.com/library/integrations/scikit#precision-recall-curve)"
      ]
    },
    {
      "cell_type": "code",
      "execution_count": 12,
      "metadata": {
        "id": "r9lgEBl9QhpW"
      },
      "outputs": [],
      "source": [
        "wandb.sklearn.plot_precision_recall(y_test, y_probas, labels)"
      ]
    },
    {
      "cell_type": "markdown",
      "metadata": {
        "id": "PRlJElIjQhpX"
      },
      "source": [
        "### Feature Importances\n",
        "\n",
        "Evaluates and plots the importance of each feature for the classification task. Only works with classifiers that have a `feature_importances_` attribute, like trees.\n",
        "\n",
        "[Check out the official documentation here $\\rightarrow$](https://docs.wandb.com/library/integrations/scikit#feature-importances)"
      ]
    },
    {
      "cell_type": "code",
      "execution_count": 13,
      "metadata": {
        "id": "O1I0NWZTQhpX"
      },
      "outputs": [],
      "source": [
        "wandb.sklearn.plot_feature_importances(model);"
      ]
    },
    {
      "cell_type": "markdown",
      "metadata": {
        "id": "9sCK6VveQhpX"
      },
      "source": [
        "## All-in-one: Classifier Plot\n",
        "\n",
        "Using this all in one API one can:\n",
        "* Log feature importance\n",
        "* Log learning curve\n",
        "* Log confusion matrix\n",
        "* Log summary metrics\n",
        "* Log class proportions\n",
        "* Log calibration curve\n",
        "* Log roc curve\n",
        "* Log precision recall curve"
      ]
    },
    {
      "cell_type": "code",
      "execution_count": 14,
      "metadata": {
        "id": "QDgkucCMQhpX"
      },
      "outputs": [
        {
          "name": "stderr",
          "output_type": "stream",
          "text": [
            "\u001b[34m\u001b[1mwandb\u001b[0m: \n",
            "\u001b[34m\u001b[1mwandb\u001b[0m: Plotting RandomForest.\n",
            "\u001b[34m\u001b[1mwandb\u001b[0m: Logged feature importances.\n",
            "\u001b[34m\u001b[1mwandb\u001b[0m: Logged confusion matrix.\n",
            "\u001b[34m\u001b[1mwandb\u001b[0m: Logged summary metrics.\n",
            "\u001b[34m\u001b[1mwandb\u001b[0m: Logged class proportions.\n",
            "\u001b[34m\u001b[1mwandb\u001b[0m: Logged calibration curve.\n",
            "\u001b[34m\u001b[1mwandb\u001b[0m: Logged roc curve.\n",
            "\u001b[34m\u001b[1mwandb\u001b[0m: Logged precision-recall curve.\n"
          ]
        },
        {
          "data": {
            "text/html": [
              "Waiting for W&B process to finish... <strong style=\"color:green\">(success).</strong>"
            ],
            "text/plain": [
              "<IPython.core.display.HTML object>"
            ]
          },
          "metadata": {},
          "output_type": "display_data"
        },
        {
          "data": {
            "text/html": [
              "Synced <strong style=\"color:#cdcd00\">classification</strong>: <a href=\"https://wandb.ai/kagglelt/my-scikit-integration/runs/1njchdv9\" target=\"_blank\">https://wandb.ai/kagglelt/my-scikit-integration/runs/1njchdv9</a><br/>Synced 5 W&B file(s), 12 media file(s), 8 artifact file(s) and 0 other file(s)"
            ],
            "text/plain": [
              "<IPython.core.display.HTML object>"
            ]
          },
          "metadata": {},
          "output_type": "display_data"
        },
        {
          "data": {
            "text/html": [
              "Find logs at: <code>.\\wandb\\run-20220429_144633-1njchdv9\\logs</code>"
            ],
            "text/plain": [
              "<IPython.core.display.HTML object>"
            ]
          },
          "metadata": {},
          "output_type": "display_data"
        }
      ],
      "source": [
        "wandb.sklearn.plot_classifier(model, \n",
        "                              X_train, X_test, \n",
        "                              y_train, y_test, \n",
        "                              y_pred, y_probas, \n",
        "                              labels, \n",
        "                              is_binary=True, \n",
        "                              model_name='RandomForest')\n",
        "\n",
        "wandb.finish()"
      ]
    },
    {
      "cell_type": "markdown",
      "metadata": {
        "id": "zav0K8YpQhpY"
      },
      "source": [
        "# Clustering"
      ]
    },
    {
      "cell_type": "code",
      "execution_count": null,
      "metadata": {
        "id": "s8yTQZl3QhpY"
      },
      "outputs": [],
      "source": [
        "# Load data\n",
        "iris = datasets.load_iris()\n",
        "X, y = iris.data, iris.target\n",
        "names = iris.target_names\n",
        "\n",
        "def get_label_ids(classes):\n",
        "    return np.array([names[aclass] for aclass in classes])\n",
        "labels = get_label_ids(y)\n",
        "\n",
        "# Train model\n",
        "kmeans = KMeans(n_clusters=4, random_state=1)\n",
        "cluster_labels = kmeans.fit_predict(X)"
      ]
    },
    {
      "cell_type": "markdown",
      "metadata": {
        "id": "J4WdDQ45QhpY"
      },
      "source": [
        "## Step 2: Initialize W&B run"
      ]
    },
    {
      "cell_type": "code",
      "execution_count": null,
      "metadata": {
        "id": "QAmKlLZzQhpY"
      },
      "outputs": [],
      "source": [
        "run = wandb.init(project='my-scikit-integration', name=\"clustering\")"
      ]
    },
    {
      "cell_type": "markdown",
      "metadata": {
        "id": "BXWEtYe5Qhpa"
      },
      "source": [
        "## Step 3: Visualize model performance"
      ]
    },
    {
      "cell_type": "markdown",
      "metadata": {
        "id": "h6RBDLV_Qhpa"
      },
      "source": [
        "### Elbow Plot\n",
        "\n",
        "Measures and plots the percentage of variance explained as a function of the number of clusters, along with training times. Useful in picking the optimal number of clusters.\n",
        "\n",
        "[Check out the official documentation here $\\rightarrow$](https://docs.wandb.com/library/integrations/scikit#elbow-plot)"
      ]
    },
    {
      "cell_type": "code",
      "execution_count": null,
      "metadata": {
        "id": "aPHte2g_Qhpa"
      },
      "outputs": [],
      "source": [
        "wandb.sklearn.plot_elbow_curve(kmeans, X)"
      ]
    },
    {
      "cell_type": "markdown",
      "metadata": {
        "id": "7FbNmHiCQhpb"
      },
      "source": [
        "### Silhouette Plot\n",
        "\n",
        "Measures & plots how close each point in one cluster is to points in the neighboring clusters. The thickness of the clusters corresponds to the cluster size. The vertical line represents the average silhouette score of all the points.\n",
        "\n",
        "[Check out the official documentation here $\\rightarrow$](https://docs.wandb.com/library/integrations/scikit#silhouette-plot)"
      ]
    },
    {
      "cell_type": "code",
      "execution_count": null,
      "metadata": {
        "id": "Wykm3eFoQhpb"
      },
      "outputs": [],
      "source": [
        "wandb.sklearn.plot_silhouette(kmeans, X, labels)"
      ]
    },
    {
      "cell_type": "markdown",
      "metadata": {
        "id": "VymKO3aDQhpb"
      },
      "source": [
        "## All in one: Clusterer Plot\n",
        "\n",
        "Using this all-in-one API you can:\n",
        "* Log elbow curve\n",
        "* Log silhouette plot"
      ]
    },
    {
      "cell_type": "code",
      "execution_count": null,
      "metadata": {
        "id": "lqGVoBQWQhpb"
      },
      "outputs": [],
      "source": [
        "wandb.sklearn.plot_clusterer(kmeans, X, cluster_labels, labels, 'KMeans')\n",
        "\n",
        "wandb.finish()"
      ]
    },
    {
      "cell_type": "markdown",
      "metadata": {
        "id": "v0hqBoQGQhpc"
      },
      "source": [
        "# Sweep 101\n",
        "\n",
        "Use Weights & Biases Sweeps to automate hyperparameter optimization and explore the space of possible models.\n",
        "\n",
        "## [Check out Hyperparameter Optimization in PyTorch using W&B Sweeps $\\rightarrow$](http://wandb.me/sweeps-colab)\n",
        "\n",
        "Running a hyperparameter sweep with Weights & Biases is very easy. There are just 3 simple steps:\n",
        "\n",
        "1. **Define the sweep:** We do this by creating a dictionary or a [YAML file](https://docs.wandb.com/library/sweeps/configuration) that specifies the parameters to search through, the search strategy, the optimization metric et all.\n",
        "\n",
        "2. **Initialize the sweep:** \n",
        "`sweep_id = wandb.sweep(sweep_config)`\n",
        "\n",
        "3. **Run the sweep agent:** \n",
        "`wandb.agent(sweep_id, function=train)`\n",
        "\n",
        "And voila! That's all there is to running a hyperparameter sweep! In the notebook below, we'll walk through these 3 steps in more detail.\n",
        "\n",
        "<img src=\"https://imgur.com/sdQXdDz.png\" alt=\"Sweep Result\" />\n"
      ]
    },
    {
      "cell_type": "markdown",
      "metadata": {
        "id": "U-TCdBgUQhpc"
      },
      "source": [
        "# Example Gallery\n",
        "\n",
        "See examples of projects tracked and visualized with W&B in our gallery, [Fully Connected →](https://wandb.me/fc)"
      ]
    },
    {
      "cell_type": "markdown",
      "metadata": {
        "id": "g7XsduiZQhpd"
      },
      "source": [
        "# Basic Setup\n",
        "1. **Projects**: Log multiple runs to a project to compare them. `wandb.init(project=\"project-name\")`\n",
        "2. **Groups**: For multiple processes or cross validation folds, log each process as a runs and group them together. `wandb.init(group='experiment-1')`\n",
        "3. **Tags**: Add tags to track your current baseline or production model.\n",
        "4. **Notes**: Type notes in the table to track the changes between runs.\n",
        "5. **Reports**: Take quick notes on progress to share with colleagues and make dashboards and snapshots of your ML projects."
      ]
    },
    {
      "cell_type": "markdown",
      "metadata": {
        "id": "xzXrCsEHQhpd"
      },
      "source": [
        "# Advanced Setup\n",
        "1. [Environment variables](https://docs.wandb.com/library/environment-variables): Set API keys in environment variables so you can run training on a managed cluster.\n",
        "2. [Offline mode](https://docs.wandb.com/library/technical-faq#can-i-run-wandb-offline): Use `dryrun` mode to train offline and sync results later.\n",
        "3. [On-prem](https://docs.wandb.com/self-hosted): Install W&B in a private cloud or air-gapped servers in your own infrastructure. We have local installations for everyone from academics to enterprise teams."
      ]
    }
  ],
  "metadata": {
    "colab": {
      "name": "Simple_Scikit_Integration.ipynb",
      "provenance": [],
      "toc_visible": true
    },
    "kernelspec": {
      "display_name": "Python 3 (ipykernel)",
      "language": "python",
      "name": "python3"
    },
    "language_info": {
      "codemirror_mode": {
        "name": "ipython",
        "version": 3
      },
      "file_extension": ".py",
      "mimetype": "text/x-python",
      "name": "python",
      "nbconvert_exporter": "python",
      "pygments_lexer": "ipython3",
      "version": "3.8.13"
    }
  },
  "nbformat": 4,
  "nbformat_minor": 0
}
